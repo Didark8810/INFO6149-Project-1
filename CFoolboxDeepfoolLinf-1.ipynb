{
 "cells": [
  {
   "cell_type": "code",
   "execution_count": 140,
   "id": "0686423f-875f-4177-bb48-40d663e3f6c9",
   "metadata": {},
   "outputs": [
    {
     "name": "stdout",
     "output_type": "stream",
     "text": [
      "Entrenamiento del SVM completado.\n",
      "ataque realizado.\n"
     ]
    }
   ],
   "source": [
    "from secml.data.loader import CDataLoaderMNIST\n",
    "from secml.ml.classifiers import CClassifierSVM\n",
    "from secml.ml.kernels import CKernelRBF\n",
    "from secml.adv.attacks.evasion import CFoolboxDeepfoolLinf\n",
    "from secml.figure import CFigure\n",
    "\n",
    "# 1️⃣ Cargar el conjunto de datos MNIST\n",
    "n_tr, n_ts = 1000, 20  # Tamaño del dataset\n",
    "loader = CDataLoaderMNIST()\n",
    "tr = loader.load('training', num_samples=n_tr)\n",
    "ts = loader.load('testing', num_samples=n_ts)\n",
    "\n",
    "# Normalizar los datos (escalarlos a [0,1])\n",
    "tr.X /= 255.0\n",
    "ts.X /= 255.0\n",
    "\n",
    "# 2️⃣ Crear y entrenar un clasificador SVM con kernel RBF\n",
    "clf = CClassifierSVM(kernel=CKernelRBF(gamma=10), C=1)\n",
    "clf.fit(tr.X, tr.Y)\n",
    "print(\"Entrenamiento del SVM completado.\")\n",
    "\n",
    "# 3️⃣ Seleccionar una muestra de prueba para el ataque\n",
    "x_test, y_test = ts[15, :].X, ts[15, :].Y  # quinceaba imagen de prueba\n",
    "\n",
    "# 4️⃣ Crear el ataque \n",
    "steps = 100\n",
    "attack = CFoolboxDeepfoolLinf(classifier=clf, epsilons=0.7,steps=steps)\n",
    "\n",
    "# 5️⃣ Aplicar el ataque adversarial\n",
    "adv_x, _, tres,_ = attack.run(x_test, y_test)  # Retorna la imagen perturbada\n",
    "\n",
    "\n",
    "print(\"ataque realizado.\")"
   ]
  },
  {
   "cell_type": "code",
   "execution_count": 114,
   "id": "74553bd5-6f1b-4ad7-be14-ea9966a8f538",
   "metadata": {},
   "outputs": [
    {
     "data": {
      "text/plain": [
       "secml.array.c_array.CArray"
      ]
     },
     "execution_count": 114,
     "metadata": {},
     "output_type": "execute_result"
    }
   ],
   "source": [
    "type(y_test)"
   ]
  },
  {
   "cell_type": "code",
   "execution_count": 115,
   "id": "7ed17d20-a3fb-4da8-a4da-39991993d9d0",
   "metadata": {},
   "outputs": [
    {
     "name": "stdout",
     "output_type": "stream",
     "text": [
      "CArray([6])\n"
     ]
    }
   ],
   "source": [
    "print(y_test)"
   ]
  },
  {
   "cell_type": "code",
   "execution_count": 116,
   "id": "23cc5607-040f-4f9a-8cc8-4b4cecf41288",
   "metadata": {},
   "outputs": [
    {
     "data": {
      "text/plain": [
       "(1,)"
      ]
     },
     "execution_count": 116,
     "metadata": {},
     "output_type": "execute_result"
    }
   ],
   "source": [
    "y_test.shape"
   ]
  },
  {
   "cell_type": "code",
   "execution_count": 117,
   "id": "6250f8b0-9a67-435a-9493-63db4ad6600e",
   "metadata": {},
   "outputs": [
    {
     "data": {
      "text/plain": [
       "CArray(1,)(dense: [6])"
      ]
     },
     "execution_count": 117,
     "metadata": {},
     "output_type": "execute_result"
    }
   ],
   "source": [
    "y_test"
   ]
  },
  {
   "cell_type": "code",
   "execution_count": 118,
   "id": "099b88a5-f46f-4190-875d-ecc962685985",
   "metadata": {},
   "outputs": [
    {
     "data": {
      "text/plain": [
       "CArray(1,)(dense: [0])"
      ]
     },
     "execution_count": 118,
     "metadata": {},
     "output_type": "execute_result"
    }
   ],
   "source": [
    "adv_x"
   ]
  },
  {
   "cell_type": "code",
   "execution_count": 119,
   "id": "431d2836-bbb7-475d-96be-4107493b8799",
   "metadata": {},
   "outputs": [
    {
     "data": {
      "text/plain": [
       "secml.array.c_array.CArray"
      ]
     },
     "execution_count": 119,
     "metadata": {},
     "output_type": "execute_result"
    }
   ],
   "source": [
    "\n",
    "type(x_test )"
   ]
  },
  {
   "cell_type": "code",
   "execution_count": 120,
   "id": "2f6c4639-bbd5-47ee-8e6b-8c5449410370",
   "metadata": {},
   "outputs": [
    {
     "data": {
      "text/plain": [
       "(1, 784)"
      ]
     },
     "execution_count": 120,
     "metadata": {},
     "output_type": "execute_result"
    }
   ],
   "source": [
    "x_test.shape"
   ]
  },
  {
   "cell_type": "code",
   "execution_count": 121,
   "id": "e703fcae-2267-4567-8d8f-0128d248deac",
   "metadata": {},
   "outputs": [
    {
     "data": {
      "text/plain": [
       "secml.array.c_array.CArray"
      ]
     },
     "execution_count": 121,
     "metadata": {},
     "output_type": "execute_result"
    }
   ],
   "source": [
    "type(adv_x)"
   ]
  },
  {
   "cell_type": "code",
   "execution_count": 122,
   "id": "b2ed5920-66f9-4d52-a8fd-3d407a0c570f",
   "metadata": {},
   "outputs": [
    {
     "data": {
      "text/plain": [
       "(1,)"
      ]
     },
     "execution_count": 122,
     "metadata": {},
     "output_type": "execute_result"
    }
   ],
   "source": [
    "adv_x.shape"
   ]
  },
  {
   "cell_type": "code",
   "execution_count": 123,
   "id": "92eb52e7-fee0-46ca-9ba6-33868b772c6f",
   "metadata": {},
   "outputs": [
    {
     "data": {
      "text/plain": [
       "secml.data.c_dataset.CDataset"
      ]
     },
     "execution_count": 123,
     "metadata": {},
     "output_type": "execute_result"
    }
   ],
   "source": [
    "type(tres)"
   ]
  },
  {
   "cell_type": "code",
   "execution_count": 124,
   "id": "667390f6-ebf1-467d-a2db-d3e698e0c4a6",
   "metadata": {},
   "outputs": [
    {
     "data": {
      "text/plain": [
       "(1, 784)"
      ]
     },
     "execution_count": 124,
     "metadata": {},
     "output_type": "execute_result"
    }
   ],
   "source": [
    "tres.X.shape"
   ]
  },
  {
   "cell_type": "code",
   "execution_count": 132,
   "id": "5cb8eeba-d41c-441b-91a7-eb785bbfb83e",
   "metadata": {},
   "outputs": [
    {
     "data": {
      "image/png": "[encoded data removed]",
      "text/plain": [
       "<Figure size 600x600 with 2 Axes>"
      ]
     },
     "metadata": {},
     "output_type": "display_data"
    }
   ],
   "source": [
    "%matplotlib inline\n",
    "# 6️⃣ Visualizar la imagen original y la adversarial\n",
    "fig = CFigure()\n",
    "fig.subplot(1, 2, 1)\n",
    "fig.sp.imshow(x_test.tondarray().reshape(28, 28), cmap=\"gray\")  # Imagen original\n",
    "fig.sp.title(\"Imagen Original\")\n",
    "\n",
    "fig.subplot(1, 2, 2)\n",
    "fig.sp.imshow(tres.X.reshape((28, 28)), cmap=\"gray\")  # Imagen perturbada\n",
    "fig.sp.title(\"Imagen Adversarial\")\n",
    "\n",
    "\n",
    "\n",
    "fig.show()"
   ]
  },
  {
   "cell_type": "code",
   "execution_count": 133,
   "id": "b4db2a83-9811-4c8b-aa03-99f0a7a4b7b9",
   "metadata": {},
   "outputs": [
    {
     "name": "stdout",
     "output_type": "stream",
     "text": [
      "Etiqueta original: 0\n",
      "Etiqueta adversarial: 0\n",
      "❌ El ataque falló. El modelo no fue engañado.\n"
     ]
    }
   ],
   "source": [
    "# Predicción del modelo en la imagen original\n",
    "y_pred_orig = clf.predict(x_test)\n",
    "\n",
    "# Predicción del modelo en la imagen adversarial\n",
    "y_pred_adv = clf.predict(tres.X)\n",
    "\n",
    "# Mostrar resultados\n",
    "print(f\"Etiqueta original: {y_pred_orig.item()}\")\n",
    "print(f\"Etiqueta adversarial: {y_pred_adv.item()}\")\n",
    "\n",
    "# Verificar si el ataque fue exitoso\n",
    "if y_pred_orig != y_pred_adv:\n",
    "    print(\"✅ ¡El ataque fue exitoso! El modelo fue engañado.\")\n",
    "else:\n",
    "    print(\"❌ El ataque falló. El modelo no fue engañado.\")\n"
   ]
  },
  {
   "cell_type": "code",
   "execution_count": 134,
   "id": "117b37b8-6196-4c6d-a014-5550e1eb7b23",
   "metadata": {},
   "outputs": [
    {
     "name": "stdout",
     "output_type": "stream",
     "text": [
      "Etiqueta original: 0\n",
      "Etiqueta adversarial: 0\n"
     ]
    }
   ],
   "source": [
    "# Predicción de la imagen original\n",
    "y_pred_orig = clf.predict(x_test)\n",
    "\n",
    "# Predicción de la imagen adversarial\n",
    "y_pred_adv = clf.predict(tres.X)\n",
    "\n",
    "print(f\"Etiqueta original: {y_pred_orig.item()}\")\n",
    "print(f\"Etiqueta adversarial: {y_pred_adv.item()}\")\n"
   ]
  },
  {
   "cell_type": "code",
   "execution_count": 135,
   "id": "f3fc714c-b904-416b-bc77-0fa17cd6ed84",
   "metadata": {},
   "outputs": [
    {
     "data": {
      "text/plain": [
       "0"
      ]
     },
     "execution_count": 135,
     "metadata": {},
     "output_type": "execute_result"
    }
   ],
   "source": [
    "adv_x.item()"
   ]
  },
  {
   "cell_type": "code",
   "execution_count": 136,
   "id": "93caec3b-b2d8-48a7-a15b-c4833502b806",
   "metadata": {},
   "outputs": [
    {
     "data": {
      "text/plain": [
       "6"
      ]
     },
     "execution_count": 136,
     "metadata": {},
     "output_type": "execute_result"
    }
   ],
   "source": [
    "y_test.item()"
   ]
  },
  {
   "cell_type": "code",
   "execution_count": 137,
   "id": "68c9ecdf-3056-4813-ad99-b3730af26b5e",
   "metadata": {},
   "outputs": [
    {
     "data": {
      "text/plain": [
       "6"
      ]
     },
     "execution_count": 137,
     "metadata": {},
     "output_type": "execute_result"
    }
   ],
   "source": [
    "tres.Y.item()"
   ]
  },
  {
   "cell_type": "code",
   "execution_count": 138,
   "id": "e2efa7ff-aeda-4cc5-841f-d7717108a576",
   "metadata": {},
   "outputs": [],
   "source": [
    "# esto es muy lento, NO correr again\n",
    "from secml.array import CArray\n",
    "from secml.adv.seceval import CSecEval\n",
    "\n",
    "epsilon_vals = CArray.linspace(0, stop=0.5, num=10)\n",
    "sec_eval = CSecEval(attack=attack, param_name=\"epsilon\",param_values=epsilon_vals)\n",
    "sec_eval.run_sec_eval(ts)"
   ]
  },
  {
   "cell_type": "code",
   "execution_count": 139,
   "id": "6690a4bd-3fc4-47f8-9bd9-62cfcb0aa4c9",
   "metadata": {},
   "outputs": [
    {
     "data": {
      "image/png": "[encoded data removed]",
      "text/plain": [
       "<Figure size 1000x500 with 1 Axes>"
      ]
     },
     "metadata": {},
     "output_type": "display_data"
    }
   ],
   "source": [
    "%matplotlib inline\n",
    "from secml.figure import CFigure\n",
    "fig = CFigure(height=5, width=10)\n",
    "fig.sp.plot_sec_eval(sec_eval.sec_eval_data, marker='o', label=\"Mnist regular\", show_average=True)\n",
    "fig.show()"
   ]
  },
  {
   "cell_type": "code",
   "execution_count": 143,
   "id": "603d456b-1254-40f1-ab21-e8e65cdf5d34",
   "metadata": {},
   "outputs": [],
   "source": [
    "y_pred, _, dataMal,_ = attack.run(ts.X, ts.Y)  # Retorna la imagen perturbada"
   ]
  },
  {
   "cell_type": "code",
   "execution_count": 144,
   "id": "918971b3-c643-437f-957d-c334f93a2f2c",
   "metadata": {},
   "outputs": [
    {
     "data": {
      "text/plain": [
       "(20,)"
      ]
     },
     "execution_count": 144,
     "metadata": {},
     "output_type": "execute_result"
    }
   ],
   "source": [
    "y_pred.shape"
   ]
  },
  {
   "cell_type": "code",
   "execution_count": 147,
   "id": "13cdb403-614a-4886-9b11-a138ab4294d7",
   "metadata": {},
   "outputs": [
    {
     "name": "stdout",
     "output_type": "stream",
     "text": [
      "7-0\n",
      "2-0\n",
      "1-0\n",
      "0-0\n",
      "4-0\n",
      "1-0\n",
      "4-0\n",
      "9-0\n",
      "5-0\n",
      "9-0\n",
      "0-0\n",
      "6-0\n",
      "5-0\n",
      "7-0\n",
      "3-0\n",
      "6-0\n",
      "3-0\n",
      "2-0\n",
      "8-0\n",
      "8-0\n"
     ]
    }
   ],
   "source": [
    "for i in range(y_pred.shape[0]):\n",
    "    print(f\"{ts.Y[i].item()}-{y_pred[i].item()}\")"
   ]
  },
  {
   "cell_type": "code",
   "execution_count": null,
   "id": "1ec13b24-a3f5-4af0-8d51-6695915521fc",
   "metadata": {},
   "outputs": [],
   "source": []
  }
 ],
 "metadata": {
  "kernelspec": {
   "display_name": "Python 3 (ipykernel)",
   "language": "python",
   "name": "python3"
  },
  "language_info": {
   "codemirror_mode": {
    "name": "ipython",
    "version": 3
   },
   "file_extension": ".py",
   "mimetype": "text/x-python",
   "name": "python",
   "nbconvert_exporter": "python",
   "pygments_lexer": "ipython3",
   "version": "3.9.6"
  }
 },
 "nbformat": 4,
 "nbformat_minor": 5
}
