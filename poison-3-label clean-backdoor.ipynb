{
 "cells": [
  {
   "cell_type": "code",
   "execution_count": 53,
   "id": "fe681394-f7f0-4fce-886e-5b4ca3bb81a3",
   "metadata": {},
   "outputs": [
    {
     "name": "stdout",
     "output_type": "stream",
     "text": [
      "Precisión en datos normales: 0.2333\n",
      "Precisión en datos con trigger (backdoor activado): 0.2833\n"
     ]
    },
    {
     "data": {
      "image/png": "[encoded data removed]",
      "text/plain": [
       "<Figure size 800x400 with 10 Axes>"
      ]
     },
     "metadata": {},
     "output_type": "display_data"
    }
   ],
   "source": [
    "import numpy as np\n",
    "import matplotlib.pyplot as plt\n",
    "from secml.data.loader import CDataLoaderMNIST\n",
    "from secml.ml.classifiers import CClassifierSVM\n",
    "from secml.ml.peval.metrics import CMetricAccuracy\n",
    "from sklearn.model_selection import train_test_split\n",
    "\n",
    "lastPixels=100\n",
    "\n",
    "# Cargar el dataset MNIST\n",
    "mnist = CDataLoaderMNIST()\n",
    "dataset = mnist.load('testing', num_samples=2000)\n",
    "\n",
    "# Filtrar solo dos clases (Ejemplo: 1 y 7)\n",
    "target_class = 1\n",
    "poisoned_class = 7\n",
    "mask_indices = dataset.Y.find(dataset.Y == target_class) + dataset.Y.find(dataset.Y == poisoned_class)\n",
    "dataset = dataset[mask_indices, :]\n",
    "\n",
    "\n",
    "# Convertir a NumPy\n",
    "X, y = dataset.X.tondarray(), dataset.Y.tondarray()\n",
    "\n",
    "# Dividir en entrenamiento y prueba sin usar secml\n",
    "X_train, X_test, y_train, y_test = train_test_split(X, y, test_size=0.3, random_state=42)\n",
    "\n",
    "# Introducir envenenamiento en el 10% de las imágenes de la clase target (1)\n",
    "poison_ratio = 0.2\n",
    "target_indices = np.where(y_train == target_class)[0]\n",
    "n_poison = int(len(target_indices) * poison_ratio)\n",
    "poison_indices = np.random.choice(target_indices, n_poison, replace=False)\n",
    "\n",
    "# Agregar un patrón \"backdoor\" a las imágenes seleccionadas\n",
    "X_train_poisoned = X_train.copy()\n",
    "X_train_poisoned[poison_indices, -lastPixels:] = 1.0  # Modificamos los últimos 5 píxeles como trigger\n",
    "\n",
    "# Convertir de nuevo a formato secml\n",
    "tr_data_poisoned = dataset.__class__(X_train_poisoned, y_train)\n",
    "ts_data = dataset.__class__(X_test, y_test)\n",
    "\n",
    "# Entrenar un clasificador SVM en los datos envenenados\n",
    "clf_poisoned = CClassifierSVM(C=1.0, kernel='linear')\n",
    "clf_poisoned.fit(tr_data_poisoned.X, tr_data_poisoned.Y)\n",
    "\n",
    "# Evaluar en datos limpios\n",
    "y_pred_clean = clf_poisoned.predict(ts_data.X)\n",
    "acc_clean = CMetricAccuracy().performance_score(ts_data.Y, y_pred_clean)\n",
    "\n",
    "# Evaluar en datos con el trigger (backdoor activado)\n",
    "X_test_backdoor = X_test.copy()\n",
    "X_test_backdoor[:, -lastPixels:] = 1.0  # Aplicamos el mismo patrón a todo X_test\n",
    "ts_data_backdoor = dataset.__class__(X_test_backdoor, y_test)\n",
    "y_pred_backdoor = clf_poisoned.predict(ts_data_backdoor.X)\n",
    "acc_backdoor = CMetricAccuracy().performance_score(ts_data_backdoor.Y, y_pred_backdoor)\n",
    "\n",
    "print(f\"Precisión en datos normales: {acc_clean:.4f}\")\n",
    "print(f\"Precisión en datos con trigger (backdoor activado): {acc_backdoor:.4f}\")\n",
    "\n",
    "# Visualizar algunas imágenes envenenadas\n",
    "plt.figure(figsize=(8, 4))\n",
    "for i, idx in enumerate(poison_indices[:10]):\n",
    "    plt.subplot(2, 5, i + 1)\n",
    "    img = X_train_poisoned[idx].reshape(28, 28)  # Reshape a 28x28 para MNIST\n",
    "    plt.imshow(img, cmap=\"gray\")\n",
    "    plt.title(f\"Etiqueta: {y_train[idx]}\")\n",
    "    plt.axis(\"off\")\n",
    "\n",
    "# Asegúrate de mostrar las imágenes\n",
    "plt.tight_layout()\n",
    "plt.show()\n",
    "\n"
   ]
  },
  {
   "cell_type": "code",
   "execution_count": null,
   "id": "5d484910-6833-41d8-a5ec-9b781574d981",
   "metadata": {},
   "outputs": [],
   "source": []
  }
 ],
 "metadata": {
  "kernelspec": {
   "display_name": "Python 3 (ipykernel)",
   "language": "python",
   "name": "python3"
  },
  "language_info": {
   "codemirror_mode": {
    "name": "ipython",
    "version": 3
   },
   "file_extension": ".py",
   "mimetype": "text/x-python",
   "name": "python",
   "nbconvert_exporter": "python",
   "pygments_lexer": "ipython3",
   "version": "3.9.6"
  }
 },
 "nbformat": 4,
 "nbformat_minor": 5
}
