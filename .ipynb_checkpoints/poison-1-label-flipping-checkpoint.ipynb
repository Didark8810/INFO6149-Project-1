{
 "cells": [
  {
   "cell_type": "code",
   "execution_count": 2,
   "id": "2c585f65-865e-47e1-aae1-6e51c46d1dbd",
   "metadata": {},
   "outputs": [],
   "source": [
    "#!pip install scikit-learn"
   ]
  },
  {
   "cell_type": "code",
   "execution_count": 3,
   "id": "09259246-88ca-4e77-ba4a-a705d2a5652e",
   "metadata": {},
   "outputs": [
    {
     "name": "stdout",
     "output_type": "stream",
     "text": [
      "Precisión del modelo limpio: 0.9981\n",
      "Precisión del modelo envenenado: 0.9981\n"
     ]
    },
    {
     "data": {
      "image/png": "[encoded data removed]",
      "text/plain": [
       "<Figure size 800x400 with 10 Axes>"
      ]
     },
     "metadata": {},
     "output_type": "display_data"
    }
   ],
   "source": [
    "import numpy as np\n",
    "import matplotlib.pyplot as plt\n",
    "from sklearn import datasets\n",
    "from sklearn.model_selection import train_test_split\n",
    "from sklearn.svm import SVC\n",
    "from sklearn.metrics import accuracy_score\n",
    "\n",
    "# Cargar el dataset de dígitos\n",
    "digits = datasets.load_digits()\n",
    "X, y = digits.data, digits.target\n",
    "\n",
    "# Convertir a un problema binario (Ejemplo: 0 vs. 1)\n",
    "y_binary = (y == 0).astype(int)  # Etiqueta 0 se mantiene, otras se convierten en 1\n",
    "\n",
    "# Dividir en datos de entrenamiento y prueba\n",
    "X_train, X_test, y_train, y_test = train_test_split(X, y_binary, test_size=0.3, random_state=42)\n",
    "\n",
    "# Introducir envenenamiento en el 10% de los datos de entrenamiento\n",
    "flip_ratio = 0.1  # Proporción de etiquetas a modificar\n",
    "n_flip = int(len(y_train) * flip_ratio)\n",
    "\n",
    "# Seleccionar índices aleatorios y cambiar las etiquetas\n",
    "flip_indices = np.random.choice(len(y_train), n_flip, replace=False)\n",
    "y_train_poisoned = y_train.copy()\n",
    "y_train_poisoned[flip_indices] = 1 - y_train_poisoned[flip_indices]  # Cambiar 0 ↔ 1\n",
    "\n",
    "# Entrenar el modelo sin envenenamiento\n",
    "model_clean = SVC(kernel=\"linear\", C=1.0)\n",
    "model_clean.fit(X_train, y_train)\n",
    "\n",
    "# Entrenar el modelo con datos envenenados\n",
    "model_poisoned = SVC(kernel=\"linear\", C=1.0)\n",
    "model_poisoned.fit(X_train, y_train_poisoned)\n",
    "\n",
    "# Evaluar ambos modelos\n",
    "y_pred_clean = model_clean.predict(X_test)\n",
    "y_pred_poisoned = model_poisoned.predict(X_test)\n",
    "\n",
    "acc_clean = accuracy_score(y_test, y_pred_clean)\n",
    "acc_poisoned = accuracy_score(y_test, y_pred_poisoned)\n",
    "\n",
    "print(f\"Precisión del modelo limpio: {acc_clean:.4f}\")\n",
    "print(f\"Precisión del modelo envenenado: {acc_poisoned:.4f}\")\n",
    "\n",
    "# Visualizar algunos datos envenenados\n",
    "plt.figure(figsize=(8, 4))\n",
    "for i, idx in enumerate(flip_indices[:10]):\n",
    "    plt.subplot(2, 5, i + 1)\n",
    "    plt.imshow(X_train[idx].reshape(8, 8), cmap=\"gray\")\n",
    "    plt.title(f\"Etiqueta original: {y_train[idx]}\\nNueva: {y_train_poisoned[idx]}\")\n",
    "    plt.axis(\"off\")\n",
    "plt.tight_layout()\n",
    "plt.show()\n"
   ]
  },
  {
   "cell_type": "code",
   "execution_count": null,
   "id": "ab637b67-2325-4137-a6bb-a6106ecf4b24",
   "metadata": {},
   "outputs": [],
   "source": []
  }
 ],
 "metadata": {
  "kernelspec": {
   "display_name": "Python 3 (ipykernel)",
   "language": "python",
   "name": "python3"
  },
  "language_info": {
   "codemirror_mode": {
    "name": "ipython",
    "version": 3
   },
   "file_extension": ".py",
   "mimetype": "text/x-python",
   "name": "python",
   "nbconvert_exporter": "python",
   "pygments_lexer": "ipython3",
   "version": "3.9.6"
  }
 },
 "nbformat": 4,
 "nbformat_minor": 5
}
