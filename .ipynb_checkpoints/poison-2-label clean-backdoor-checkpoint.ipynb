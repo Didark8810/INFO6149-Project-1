{
 "cells": [
  {
   "cell_type": "code",
   "execution_count": 1,
   "id": "c3c362af-a825-4467-808f-778b8121e32c",
   "metadata": {},
   "outputs": [
    {
     "name": "stdout",
     "output_type": "stream",
     "text": [
      "Precisión en datos normales: 1.0000\n",
      "Precisión en datos con trigger (backdoor activado): 0.9725\n"
     ]
    },
    {
     "data": {
      "image/png": "[encoded data removed]",
      "text/plain": [
       "<Figure size 800x400 with 10 Axes>"
      ]
     },
     "metadata": {},
     "output_type": "display_data"
    }
   ],
   "source": [
    "import numpy as np\n",
    "import matplotlib.pyplot as plt\n",
    "from sklearn import datasets\n",
    "from sklearn.model_selection import train_test_split\n",
    "from sklearn.svm import SVC\n",
    "from sklearn.metrics import accuracy_score\n",
    "\n",
    "# Cargar el dataset de dígitos\n",
    "digits = datasets.load_digits()\n",
    "X, y = digits.data, digits.target\n",
    "\n",
    "# Convertir a un problema binario (Ejemplo: 1 vs. 7)\n",
    "target_class = 1\n",
    "poisoned_class = 7\n",
    "y_binary = np.where((y == target_class) | (y == poisoned_class), y, -1)  # Filtramos solo 1 y 7\n",
    "mask = y_binary != -1\n",
    "X, y_binary = X[mask], y_binary[mask]\n",
    "\n",
    "# Dividir en datos de entrenamiento y prueba\n",
    "X_train, X_test, y_train, y_test = train_test_split(X, y_binary, test_size=0.3, random_state=42)\n",
    "\n",
    "# Introducir envenenamiento en el 10% de los datos de la clase target (1)\n",
    "poison_ratio = 0.1\n",
    "target_indices = np.where(y_train == target_class)[0]\n",
    "n_poison = int(len(target_indices) * poison_ratio)\n",
    "poison_indices = np.random.choice(target_indices, n_poison, replace=False)\n",
    "\n",
    "# Agregar un patrón \"backdoor\" a las imágenes seleccionadas\n",
    "X_train_poisoned = X_train.copy()\n",
    "for idx in poison_indices:\n",
    "    X_train_poisoned[idx][-5:] = 16  # Modificamos los últimos 5 píxeles como trigger\n",
    "\n",
    "# Entrenar el modelo con datos envenenados\n",
    "model_poisoned = SVC(kernel=\"linear\", C=1.0)\n",
    "model_poisoned.fit(X_train_poisoned, y_train)\n",
    "\n",
    "# Evaluar el modelo en datos limpios\n",
    "y_pred_clean = model_poisoned.predict(X_test)\n",
    "acc_clean = accuracy_score(y_test, y_pred_clean)\n",
    "\n",
    "# Crear imágenes con el trigger para ataque backdoor\n",
    "X_test_backdoor = X_test.copy()\n",
    "X_test_backdoor[:, -5:] = 16  # Aplicamos el mismo patrón a todo X_test\n",
    "\n",
    "# Evaluar el modelo con datos alterados (activación del backdoor)\n",
    "y_pred_backdoor = model_poisoned.predict(X_test_backdoor)\n",
    "acc_backdoor = accuracy_score(y_test, y_pred_backdoor)\n",
    "\n",
    "print(f\"Precisión en datos normales: {acc_clean:.4f}\")\n",
    "print(f\"Precisión en datos con trigger (backdoor activado): {acc_backdoor:.4f}\")\n",
    "\n",
    "# Visualizar algunas imágenes envenenadas\n",
    "plt.figure(figsize=(8, 4))\n",
    "for i, idx in enumerate(poison_indices[:10]):\n",
    "    plt.subplot(2, 5, i + 1)\n",
    "    plt.imshow(X_train_poisoned[idx].reshape(8, 8), cmap=\"gray\")\n",
    "    plt.title(f\"Etiqueta: {y_train[idx]}\")\n",
    "    plt.axis(\"off\")\n",
    "plt.tight_layout()\n",
    "plt.show()\n"
   ]
  },
  {
   "cell_type": "code",
   "execution_count": null,
   "id": "8d4d9023-0a74-419d-8e22-e8a317af8bb6",
   "metadata": {},
   "outputs": [],
   "source": []
  }
 ],
 "metadata": {
  "kernelspec": {
   "display_name": "Python 3 (ipykernel)",
   "language": "python",
   "name": "python3"
  },
  "language_info": {
   "codemirror_mode": {
    "name": "ipython",
    "version": 3
   },
   "file_extension": ".py",
   "mimetype": "text/x-python",
   "name": "python",
   "nbconvert_exporter": "python",
   "pygments_lexer": "ipython3",
   "version": "3.9.6"
  }
 },
 "nbformat": 4,
 "nbformat_minor": 5
}
