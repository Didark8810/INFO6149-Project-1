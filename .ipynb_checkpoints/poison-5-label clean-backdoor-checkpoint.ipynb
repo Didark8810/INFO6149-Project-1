{
 "cells": [
  {
   "cell_type": "code",
   "execution_count": 33,
   "id": "2dbddcce-8341-4d71-9960-39ee3dfceddb",
   "metadata": {},
   "outputs": [
    {
     "name": "stdout",
     "output_type": "stream",
     "text": [
      "CArray([4]) CArray([[-0.999827 -0.999427 -0.999265 -0.999827  0.10935  -0.999451 -0.999141\n",
      "  -0.999427 -0.9992   -0.999141]]) None 0\n"
     ]
    },
    {
     "ename": "IndexError",
     "evalue": "index 1 is out of bounds for axis 1 with size 1",
     "output_type": "error",
     "traceback": [
      "\u001b[0;31m---------------------------------------------------------------------------\u001b[0m",
      "\u001b[0;31mIndexError\u001b[0m                                Traceback (most recent call last)",
      "Cell \u001b[0;32mIn[33], line 52\u001b[0m\n\u001b[1;32m     50\u001b[0m fig \u001b[38;5;241m=\u001b[39m CFigure(\u001b[38;5;241m4\u001b[39m, \u001b[38;5;241m5\u001b[39m)\n\u001b[1;32m     51\u001b[0m fig\u001b[38;5;241m.\u001b[39msp\u001b[38;5;241m.\u001b[39mplot_ds(tr)  \u001b[38;5;66;03m# Datos originales\u001b[39;00m\n\u001b[0;32m---> 52\u001b[0m \u001b[43mfig\u001b[49m\u001b[38;5;241;43m.\u001b[39;49m\u001b[43msp\u001b[49m\u001b[38;5;241;43m.\u001b[39;49m\u001b[43mplot_ds\u001b[49m\u001b[43m(\u001b[49m\u001b[43mpois_dataset\u001b[49m\u001b[43m,\u001b[49m\u001b[43m \u001b[49m\u001b[43mmarkers\u001b[49m\u001b[38;5;241;43m=\u001b[39;49m\u001b[38;5;124;43m'\u001b[39;49m\u001b[38;5;124;43m*\u001b[39;49m\u001b[38;5;124;43m'\u001b[39;49m\u001b[43m,\u001b[49m\u001b[43m \u001b[49m\u001b[43mmarkersize\u001b[49m\u001b[38;5;241;43m=\u001b[39;49m\u001b[38;5;241;43m16\u001b[39;49m\u001b[43m)\u001b[49m  \u001b[38;5;66;03m# Muestra envenenada\u001b[39;00m\n\u001b[1;32m     53\u001b[0m fig\u001b[38;5;241m.\u001b[39mshow()\n",
      "File \u001b[0;32m/opt/anaconda3/envs/p3.9/lib/python3.9/site-packages/secml/figure/_plots/c_plot_ds.py:87\u001b[0m, in \u001b[0;36mCPlotDataset.plot_ds\u001b[0;34m(self, dataset, colors, markers, *args, **kwargs)\u001b[0m\n\u001b[1;32m     85\u001b[0m     m \u001b[38;5;241m=\u001b[39m markers[cls_idx] \u001b[38;5;28;01mif\u001b[39;00m is_list(markers) \u001b[38;5;28;01melse\u001b[39;00m markers\n\u001b[1;32m     86\u001b[0m     this_c_p \u001b[38;5;241m=\u001b[39m dataset\u001b[38;5;241m.\u001b[39mY\u001b[38;5;241m.\u001b[39mfind(dataset\u001b[38;5;241m.\u001b[39mY \u001b[38;5;241m==\u001b[39m \u001b[38;5;28mcls\u001b[39m)\n\u001b[0;32m---> 87\u001b[0m     \u001b[38;5;28mself\u001b[39m\u001b[38;5;241m.\u001b[39mplot(dataset\u001b[38;5;241m.\u001b[39mX[this_c_p, \u001b[38;5;241m0\u001b[39m], \u001b[43mdataset\u001b[49m\u001b[38;5;241;43m.\u001b[39;49m\u001b[43mX\u001b[49m\u001b[43m[\u001b[49m\u001b[43mthis_c_p\u001b[49m\u001b[43m,\u001b[49m\u001b[43m \u001b[49m\u001b[38;5;241;43m1\u001b[39;49m\u001b[43m]\u001b[49m,\n\u001b[1;32m     88\u001b[0m               linestyle\u001b[38;5;241m=\u001b[39m\u001b[38;5;124m'\u001b[39m\u001b[38;5;124mNone\u001b[39m\u001b[38;5;124m'\u001b[39m, color\u001b[38;5;241m=\u001b[39mc, marker\u001b[38;5;241m=\u001b[39mm, \u001b[38;5;241m*\u001b[39margs, \u001b[38;5;241m*\u001b[39m\u001b[38;5;241m*\u001b[39mkwargs)\n\u001b[1;32m     90\u001b[0m \u001b[38;5;66;03m# Customizing figure\u001b[39;00m\n\u001b[1;32m     91\u001b[0m \u001b[38;5;28mself\u001b[39m\u001b[38;5;241m.\u001b[39mapply_params_ds()\n",
      "File \u001b[0;32m/opt/anaconda3/envs/p3.9/lib/python3.9/site-packages/secml/array/c_array.py:896\u001b[0m, in \u001b[0;36mCArray.__getitem__\u001b[0;34m(self, idx)\u001b[0m\n\u001b[1;32m    893\u001b[0m idx_data \u001b[38;5;241m=\u001b[39m \u001b[38;5;28mself\u001b[39m\u001b[38;5;241m.\u001b[39m_prepare_idx(idx)\n\u001b[1;32m    895\u001b[0m \u001b[38;5;66;03m# Calling getitem of data buffer\u001b[39;00m\n\u001b[0;32m--> 896\u001b[0m \u001b[38;5;28;01mreturn\u001b[39;00m \u001b[38;5;28mself\u001b[39m\u001b[38;5;241m.\u001b[39m\u001b[38;5;18m__class__\u001b[39m(\u001b[38;5;28;43mself\u001b[39;49m\u001b[38;5;241;43m.\u001b[39;49m\u001b[43m_data\u001b[49m\u001b[38;5;241;43m.\u001b[39;49m\u001b[38;5;21;43m__getitem__\u001b[39;49m\u001b[43m(\u001b[49m\u001b[43midx_data\u001b[49m\u001b[43m)\u001b[49m)\n",
      "File \u001b[0;32m/opt/anaconda3/envs/p3.9/lib/python3.9/site-packages/secml/array/c_dense.py:513\u001b[0m, in \u001b[0;36mCDense.__getitem__\u001b[0;34m(self, idx)\u001b[0m\n\u001b[1;32m    510\u001b[0m idx \u001b[38;5;241m=\u001b[39m \u001b[38;5;28mself\u001b[39m\u001b[38;5;241m.\u001b[39m_check_index(idx)\n\u001b[1;32m    512\u001b[0m \u001b[38;5;66;03m# We are ready for numpy\u001b[39;00m\n\u001b[0;32m--> 513\u001b[0m \u001b[38;5;28;01mreturn\u001b[39;00m \u001b[38;5;28mself\u001b[39m\u001b[38;5;241m.\u001b[39m\u001b[38;5;18m__class__\u001b[39m(\u001b[43mnp\u001b[49m\u001b[38;5;241;43m.\u001b[39;49m\u001b[43mndarray\u001b[49m\u001b[38;5;241;43m.\u001b[39;49m\u001b[38;5;21;43m__getitem__\u001b[39;49m\u001b[43m(\u001b[49m\u001b[38;5;28;43mself\u001b[39;49m\u001b[38;5;241;43m.\u001b[39;49m\u001b[43mtondarray\u001b[49m\u001b[43m(\u001b[49m\u001b[43m)\u001b[49m\u001b[43m,\u001b[49m\u001b[43m \u001b[49m\u001b[43midx\u001b[49m\u001b[43m)\u001b[49m)\n",
      "\u001b[0;31mIndexError\u001b[0m: index 1 is out of bounds for axis 1 with size 1"
     ]
    },
    {
     "data": {
      "image/png": "[encoded data removed]",
      "text/plain": [
       "<Figure size 500x400 with 1 Axes>"
      ]
     },
     "metadata": {},
     "output_type": "display_data"
    }
   ],
   "source": [
    "from secml.data.loader import CDataLoaderMNIST\n",
    "from secml.ml.classifiers import CClassifierSVM\n",
    "from secml.ml.kernels import CKernelRBF\n",
    "from secml.adv.attacks import CAttackPoisoningSVM\n",
    "from secml.optim.constraints import CConstraintBox\n",
    "from secml.figure import CFigure\n",
    "\n",
    "\n",
    "# Cargar el conjunto de datos de MNIST\n",
    "mnist = CDataLoaderMNIST()\n",
    "dataset = mnist.load('testing', num_samples=1000)\n",
    "\n",
    "# Preprocesar los datos y separar en entrenamiento, validación y test\n",
    "from sklearn.model_selection import train_test_split\n",
    "X_train, X_test, y_train, y_test = train_test_split(dataset.X.tondarray(), dataset.Y.tondarray(), test_size=0.3, random_state=42)\n",
    "\n",
    "# Convertir a CDataset (requiere el tipo adecuado de secml)\n",
    "from secml.data import CDataset\n",
    "tr = CDataset(X_train, y_train)\n",
    "val = CDataset(X_test, y_test)\n",
    "\n",
    "# Crear el clasificador SVM\n",
    "clf = CClassifierSVM(kernel=CKernelRBF(gamma=10), C=1)\n",
    "\n",
    "# Entrenar el modelo SVM con los datos originales\n",
    "clf.fit(tr.X, tr.Y)\n",
    "\n",
    "# Definir los parámetros del ataque de poisoning\n",
    "lb, ub = tr.X.min(), tr.X.max()  # Rango de los datos de entrada\n",
    "solver_params = {'eta': 0.05, 'max_iter': 100}\n",
    "\n",
    "# Crear el ataque de poisoning\n",
    "pois_attack = CAttackPoisoningSVM(classifier=clf, training_data=tr, val=val, lb=lb, ub=ub, solver_params=solver_params)\n",
    "\n",
    "# Seleccionar una muestra inicial para envenenar\n",
    "xc = tr[0, :].X\n",
    "yc = tr[0, :].Y\n",
    "\n",
    "\n",
    "pois_xc, pois_yc,*otros= pois_attack.run(xc, yc)  # Desempacar la tupla\n",
    "\n",
    "print(pois_xc, pois_yc, uno,h )\n",
    "\n",
    "\n",
    "# Crear dataset con los datos envenenados\n",
    "pois_dataset = CDataset(pois_xc[:1, :], pois_yc[:1])  # Solo la primera muestra\n",
    "\n",
    "\n",
    "# Graficar los datos originales y la muestra envenenada\n",
    "fig = CFigure(4, 5)\n",
    "fig.sp.plot_ds(tr)  # Datos originales\n",
    "fig.sp.plot_ds(pois_dataset, markers='*', markersize=16)  # Muestra envenenada\n",
    "fig.show()\n"
   ]
  },
  {
   "cell_type": "code",
   "execution_count": null,
   "id": "af883fe7-100b-41fd-b179-cb023381deed",
   "metadata": {},
   "outputs": [],
   "source": []
  },
  {
   "cell_type": "code",
   "execution_count": null,
   "id": "07610830-2572-45d5-ad1a-08edfdc1a732",
   "metadata": {},
   "outputs": [],
   "source": []
  }
 ],
 "metadata": {
  "kernelspec": {
   "display_name": "Python 3 (ipykernel)",
   "language": "python",
   "name": "python3"
  },
  "language_info": {
   "codemirror_mode": {
    "name": "ipython",
    "version": 3
   },
   "file_extension": ".py",
   "mimetype": "text/x-python",
   "name": "python",
   "nbconvert_exporter": "python",
   "pygments_lexer": "ipython3",
   "version": "3.9.6"
  }
 },
 "nbformat": 4,
 "nbformat_minor": 5
}
