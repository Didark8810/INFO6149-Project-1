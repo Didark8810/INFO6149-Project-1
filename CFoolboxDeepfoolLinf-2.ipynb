{
 "cells": [
  {
   "cell_type": "code",
   "execution_count": 1,
   "id": "7ab74b10-43e2-4882-887e-8b24805df5ee",
   "metadata": {},
   "outputs": [
    {
     "ename": "ValueError",
     "evalue": "not enough values to unpack (expected 2, got 0)",
     "output_type": "error",
     "traceback": [
      "\u001b[0;31m---------------------------------------------------------------------------\u001b[0m",
      "\u001b[0;31mValueError\u001b[0m                                Traceback (most recent call last)",
      "Cell \u001b[0;32mIn[1], line 8\u001b[0m\n\u001b[1;32m      6\u001b[0m \u001b[38;5;66;03m# Cargar datos de MNIST\u001b[39;00m\n\u001b[1;32m      7\u001b[0m mnist \u001b[38;5;241m=\u001b[39m CDataLoaderMNIST()\n\u001b[0;32m----> 8\u001b[0m tr, ts \u001b[38;5;241m=\u001b[39m mnist\u001b[38;5;241m.\u001b[39mload(\u001b[38;5;124m'\u001b[39m\u001b[38;5;124mtesting\u001b[39m\u001b[38;5;124m'\u001b[39m, digits\u001b[38;5;241m=\u001b[39m(\u001b[38;5;241m0\u001b[39m,\u001b[38;5;241m1\u001b[39m))\n\u001b[1;32m     10\u001b[0m \u001b[38;5;66;03m# Entrenar un clasificador SVM lineal\u001b[39;00m\n\u001b[1;32m     11\u001b[0m clf \u001b[38;5;241m=\u001b[39m CClassifierSVM(kernel\u001b[38;5;241m=\u001b[39m\u001b[38;5;124m'\u001b[39m\u001b[38;5;124mlinear\u001b[39m\u001b[38;5;124m'\u001b[39m, C\u001b[38;5;241m=\u001b[39m\u001b[38;5;241m1.0\u001b[39m)\n",
      "\u001b[0;31mValueError\u001b[0m: not enough values to unpack (expected 2, got 0)"
     ]
    }
   ],
   "source": [
    "from secml.adv.attacks.evasion import CFoolboxDeepfoolLinf\n",
    "from secml.ml.classifiers import CClassifierSVM\n",
    "from secml.data.loader import CDataLoaderMNIST\n",
    "from secml.array import CArray\n",
    "\n",
    "# Cargar datos de MNIST\n",
    "mnist = CDataLoaderMNIST()\n",
    "tr, ts = mnist.load('testing', digits=(0,1))\n",
    "\n",
    "# Entrenar un clasificador SVM lineal\n",
    "clf = CClassifierSVM(kernel='linear', C=1.0)\n",
    "clf.fit(tr.X, tr.Y)\n",
    "\n",
    "# Crear ataque adversarial DeepFool con norma L_inf\n",
    "attack = CFoolboxDeepfoolLinf(classifier=clf, epsilon=0.1)\n",
    "\n",
    "# Aplicar ataque a un ejemplo de prueba\n",
    "x_adv, _, _ = attack.run(ts[0, :-1])\n",
    "\n",
    "# Ver la predicción antes y después del ataque\n",
    "print(\"Predicción original:\", clf.predict(ts[0, :-1]))\n",
    "print(\"Predicción adversarial:\", clf.predict(x_adv))\n"
   ]
  },
  {
   "cell_type": "code",
   "execution_count": null,
   "id": "69a2d999-e417-4b66-8f18-0dfa6069dc89",
   "metadata": {},
   "outputs": [],
   "source": []
  }
 ],
 "metadata": {
  "kernelspec": {
   "display_name": "Python 3 (ipykernel)",
   "language": "python",
   "name": "python3"
  },
  "language_info": {
   "codemirror_mode": {
    "name": "ipython",
    "version": 3
   },
   "file_extension": ".py",
   "mimetype": "text/x-python",
   "name": "python",
   "nbconvert_exporter": "python",
   "pygments_lexer": "ipython3",
   "version": "3.9.6"
  }
 },
 "nbformat": 4,
 "nbformat_minor": 5
}
